{
 "cells": [
  {
   "cell_type": "markdown",
   "metadata": {
    "deletable": true,
    "editable": true
   },
   "source": [
    "# Appendix - Code for converting the Caffe model to Tensorflow\n",
    "Model from Fully Convolutional Networks(FCN) for Semantic Segmentation by Jonathan Long*, Evan Shelhamer*, and Trevor Darrell. CVPR 2015 and PAMI 2016 \n",
    "https://github.com/shelhamer/fcn.berkeleyvision.org/tree/master/voc-fcn32s   \n",
    "\n",
    "This notebook is for converting the pre-trained FCN semantic segmentation model from Caffe to Tensorflow. We only convert the encoding part (toward \"fc7\" named in the paper), because we want to extract feature from that layer, which is 7x7x4096."
   ]
  },
  {
   "cell_type": "code",
   "execution_count": 1,
   "metadata": {
    "collapsed": false,
    "deletable": true,
    "editable": true
   },
   "outputs": [
    {
     "name": "stderr",
     "output_type": "stream",
     "text": [
      "Using TensorFlow backend.\n"
     ]
    }
   ],
   "source": [
    "import os\n",
    "import h5py\n",
    "\n",
    "import matplotlib.pyplot as plt\n",
    "import time, pickle, pandas\n",
    "\n",
    "import numpy as np\n",
    "\n",
    "from keras.preprocessing.image import ImageDataGenerator\n",
    "from keras.models import Sequential, load_model\n",
    "from keras.layers import Conv2D, MaxPooling2D, ZeroPadding2D, Deconvolution2D, Cropping2D, UpSampling2D\n",
    "from keras.layers import Activation, Dropout, Flatten, Dense, Reshape\n",
    "from keras.callbacks import TensorBoard, ModelCheckpoint\n",
    "from keras import backend\n",
    "from keras import optimizers\n",
    "\n",
    "%matplotlib inline"
   ]
  },
  {
   "cell_type": "code",
   "execution_count": 3,
   "metadata": {
    "collapsed": true,
    "deletable": true,
    "editable": true
   },
   "outputs": [],
   "source": [
    "# dimensions of our images.\n",
    "img_width, img_height = 224, 224\n",
    "\n",
    "# train_data_dir = './data/train'\n",
    "validation_data_dir = './fcn.berkeleyvision.org/data/pascal/VOC2011/JPEGImages'\n",
    "nb_train_samples = 20000\n",
    "nb_validation_samples = 2000"
   ]
  },
  {
   "cell_type": "code",
   "execution_count": 4,
   "metadata": {
    "collapsed": false,
    "deletable": true,
    "editable": true
   },
   "outputs": [],
   "source": [
    "def build_fcn32(framework='tf'):\n",
    "\n",
    "    if framework == 'th':\n",
    "        # build the VGG16 network in Theano weight ordering mode\n",
    "        backend.set_image_dim_ordering('th')\n",
    "    else:\n",
    "        # build the VGG16 network in Tensorflow weight ordering mode\n",
    "        backend.set_image_dim_ordering('tf')\n",
    "        \n",
    "    model = Sequential()\n",
    "    if framework == 'th':\n",
    "        model.add(ZeroPadding2D((100, 100), input_shape=(3, img_height, img_width)))\n",
    "    else:\n",
    "        model.add(ZeroPadding2D((100, 100), input_shape=(img_height, img_width, 3)))\n",
    "        \n",
    "    model.add(Conv2D(64, (3, 3), activation='relu', name='conv1_1'))\n",
    "    model.add(ZeroPadding2D((1, 1)))\n",
    "    model.add(Conv2D(64, (3, 3), activation='relu', name='conv1_2'))\n",
    "    model.add(MaxPooling2D((2, 2), strides=(2, 2), name='pool1'))\n",
    "\n",
    "    model.add(ZeroPadding2D((1, 1)))\n",
    "    model.add(Conv2D(128, (3, 3), activation='relu', name='conv2_1'))\n",
    "    model.add(ZeroPadding2D((1, 1)))\n",
    "    model.add(Conv2D(128, (3, 3), activation='relu', name='conv2_2'))\n",
    "    model.add(MaxPooling2D((2, 2), strides=(2, 2), name='pool2'))\n",
    "\n",
    "    model.add(ZeroPadding2D((1, 1)))\n",
    "    model.add(Conv2D(256, (3, 3), activation='relu', name='conv3_1'))\n",
    "    model.add(ZeroPadding2D((1, 1)))\n",
    "    model.add(Conv2D(256, (3, 3), activation='relu', name='conv3_2'))\n",
    "    model.add(ZeroPadding2D((1, 1)))\n",
    "    model.add(Conv2D(256, (3, 3), activation='relu', name='conv3_3'))\n",
    "    model.add(MaxPooling2D((2, 2), strides=(2, 2), name='pool3'))\n",
    "\n",
    "    model.add(ZeroPadding2D((1, 1)))\n",
    "    model.add(Conv2D(512, (3, 3), activation='relu', name='conv4_1'))\n",
    "    model.add(ZeroPadding2D((1, 1)))\n",
    "    model.add(Conv2D(512, (3, 3), activation='relu', name='conv4_2'))\n",
    "    model.add(ZeroPadding2D((1, 1)))\n",
    "    model.add(Conv2D(512, (3, 3), activation='relu', name='conv4_3'))\n",
    "    model.add(MaxPooling2D((2, 2), strides=(2, 2), name='pool4'))\n",
    "\n",
    "    model.add(ZeroPadding2D((1, 1)))\n",
    "    model.add(Conv2D(512, (3, 3), activation='relu', name='conv5_1'))\n",
    "    model.add(ZeroPadding2D((1, 1)))\n",
    "    model.add(Conv2D(512, (3, 3), activation='relu', name='conv5_2'))\n",
    "    model.add(ZeroPadding2D((1, 1)))\n",
    "    model.add(Conv2D(512, (3, 3), activation='relu', name='conv5_3'))\n",
    "    model.add(MaxPooling2D((2, 2), strides=(2, 2), name='pool5'))\n",
    "    \n",
    "    # build a convolutional layer to put on top of the convolutional model, to create an FCN\n",
    "    model.add(Conv2D(4096, (7, 7), activation='relu', name='fc6'))\n",
    "    model.add(Dropout(0.5, name='drop6'))\n",
    "    model.add(Conv2D(4096, (1, 1), activation='relu', name='fc7'))\n",
    "    model.add(Dropout(0.5, name='drop7'))\n",
    "\n",
    "    # Final segmentation layer\n",
    "    model.add(Conv2D(21, (1, 1), name='score_fr'))\n",
    "\n",
    "### We dont need the deconvolution part from FCN ###\n",
    "#     model.add(Deconvolution2D(21, 64, 64, subsample=(32, 32), bias=False, output_shape=(None, 384, 512, 21), name='upscore'))\n",
    "#     model.add(UpSampling2D(size=(32, 32), name='upsample'))\n",
    "#     model.add(ZeroPadding2D((32, 32)))\n",
    "#     model.add(Convolution2D(21, 64, 64, bias=False, name='upscore'))\n",
    "    \n",
    "    # Find the shape of the output from the previous layer\n",
    "#     output_shape = model.layers[-1].output_shape[1]\n",
    "#     crop_size = (int((output_shape - img_width)/2), int((output_shape - img_height)/2))\n",
    "#     model.add(Cropping2D((crop_size, crop_size), name='score'))\n",
    "    \n",
    "#     # Reshape to apply pixel-wise softmax\n",
    "#     _, curr_width, curr_height, curr_filters = model.layers[-1].output_shape\n",
    "#     model.add(Reshape((curr_width * curr_height, curr_filters)))\n",
    "#     model.add(Activation('softmax'))\n",
    "#     model.add(Reshape((curr_width, curr_height, curr_filters)))\n",
    "    \n",
    "    return model"
   ]
  },
  {
   "cell_type": "markdown",
   "metadata": {
    "deletable": true,
    "editable": true
   },
   "source": [
    "Build a Tensorflow style model and load the weights from the Caffe model file"
   ]
  },
  {
   "cell_type": "code",
   "execution_count": 5,
   "metadata": {
    "collapsed": false,
    "deletable": true,
    "editable": true
   },
   "outputs": [],
   "source": [
    "# path to the model weights file - gotten by converting from Caffe\n",
    "weights_path = 'seg_model_init_weights.h5'\n",
    "tf_model = build_fcn32('tf')"
   ]
  },
  {
   "cell_type": "code",
   "execution_count": 6,
   "metadata": {
    "collapsed": false,
    "deletable": true,
    "editable": true
   },
   "outputs": [
    {
     "name": "stdout",
     "output_type": "stream",
     "text": [
      "Keras:\n",
      "zero_padding2d_1\n",
      "conv1_1\n",
      "(3, 3, 3, 64)\n",
      "zero_padding2d_2\n",
      "conv1_2\n",
      "(3, 3, 64, 64)\n",
      "pool1\n",
      "zero_padding2d_3\n",
      "conv2_1\n",
      "(3, 3, 64, 128)\n",
      "zero_padding2d_4\n",
      "conv2_2\n",
      "(3, 3, 128, 128)\n",
      "pool2\n",
      "zero_padding2d_5\n",
      "conv3_1\n",
      "(3, 3, 128, 256)\n",
      "zero_padding2d_6\n",
      "conv3_2\n",
      "(3, 3, 256, 256)\n",
      "zero_padding2d_7\n",
      "conv3_3\n",
      "(3, 3, 256, 256)\n",
      "pool3\n",
      "zero_padding2d_8\n",
      "conv4_1\n",
      "(3, 3, 256, 512)\n",
      "zero_padding2d_9\n",
      "conv4_2\n",
      "(3, 3, 512, 512)\n",
      "zero_padding2d_10\n",
      "conv4_3\n",
      "(3, 3, 512, 512)\n",
      "pool4\n",
      "zero_padding2d_11\n",
      "conv5_1\n",
      "(3, 3, 512, 512)\n",
      "zero_padding2d_12\n",
      "conv5_2\n",
      "(3, 3, 512, 512)\n",
      "zero_padding2d_13\n",
      "conv5_3\n",
      "(3, 3, 512, 512)\n",
      "pool5\n",
      "fc6\n",
      "(7, 7, 512, 4096)\n",
      "drop6\n",
      "fc7\n",
      "(1, 1, 4096, 4096)\n",
      "drop7\n",
      "score_fr\n",
      "(1, 1, 4096, 21)\n"
     ]
    }
   ],
   "source": [
    "print('Keras:')\n",
    "for layer in tf_model.layers:\n",
    "    print(layer.name)\n",
    "    if len(layer.get_weights()) > 0:\n",
    "        w = layer.get_weights()[0]\n",
    "        print(w.shape)"
   ]
  },
  {
   "cell_type": "code",
   "execution_count": 7,
   "metadata": {
    "collapsed": true,
    "deletable": true,
    "editable": true
   },
   "outputs": [],
   "source": [
    "import caffe\n",
    "from PIL import Image"
   ]
  },
  {
   "cell_type": "code",
   "execution_count": 8,
   "metadata": {
    "collapsed": false,
    "deletable": true,
    "editable": true
   },
   "outputs": [
    {
     "name": "stdout",
     "output_type": "stream",
     "text": [
      "C:\\Users\\Aditya\\Documents\\Columbia Courses\\Spring 2017\\COMS W4995_Deep_Learning_for_CV\\Project\\fcn.berkeleyvision.org\n"
     ]
    }
   ],
   "source": [
    "%cd fcn.berkeleyvision.org/"
   ]
  },
  {
   "cell_type": "code",
   "execution_count": 9,
   "metadata": {
    "collapsed": false,
    "deletable": true,
    "editable": true
   },
   "outputs": [
    {
     "data": {
      "image/png": "[encoded data removed]",
      "text/plain": [
       "<matplotlib.figure.Figure at 0x1759ec865c0>"
      ]
     },
     "metadata": {},
     "output_type": "display_data"
    },
    {
     "data": {
      "image/png": "[encoded data removed]",
      "text/plain": [
       "<matplotlib.figure.Figure at 0x1759ec866a0>"
      ]
     },
     "metadata": {},
     "output_type": "display_data"
    }
   ],
   "source": [
    "net = caffe.Net('voc-fcn32s/val.prototxt', 'voc-fcn32s/fcn32s-heavy-pascal.caffemodel', caffe.TEST)\n",
    "# run net and take argmax for prediction\n",
    "net.forward()\n",
    "\n",
    "# Check shapes at output\n",
    "out = net.blobs['score'].data[0].argmax(axis=0)\n",
    "plt.imshow(out)\n",
    "plt.show()\n",
    "\n",
    "# Show output from the score_fr layer\n",
    "inter = net.blobs['score_fr'].data[0].argmax(axis=0)\n",
    "plt.imshow(inter)\n",
    "plt.show()"
   ]
  },
  {
   "cell_type": "code",
   "execution_count": 10,
   "metadata": {
    "collapsed": false,
    "deletable": true,
    "editable": true
   },
   "outputs": [
    {
     "name": "stdout",
     "output_type": "stream",
     "text": [
      "conv1_1\n",
      "(64, 3, 3, 3)\n",
      "conv1_2\n",
      "(64, 64, 3, 3)\n",
      "conv2_1\n",
      "(128, 64, 3, 3)\n",
      "conv2_2\n",
      "(128, 128, 3, 3)\n",
      "conv3_1\n",
      "(256, 128, 3, 3)\n",
      "conv3_2\n",
      "(256, 256, 3, 3)\n",
      "conv3_3\n",
      "(256, 256, 3, 3)\n",
      "conv4_1\n",
      "(512, 256, 3, 3)\n",
      "conv4_2\n",
      "(512, 512, 3, 3)\n",
      "conv4_3\n",
      "(512, 512, 3, 3)\n",
      "conv5_1\n",
      "(512, 512, 3, 3)\n",
      "conv5_2\n",
      "(512, 512, 3, 3)\n",
      "conv5_3\n",
      "(512, 512, 3, 3)\n",
      "fc6\n",
      "(4096, 512, 7, 7)\n",
      "fc7\n",
      "(4096, 4096, 1, 1)\n",
      "score_fr\n",
      "(21, 4096, 1, 1)\n",
      "upscore\n",
      "(21, 21, 64, 64)\n"
     ]
    }
   ],
   "source": [
    "for layer_name in net.params.keys():\n",
    "    print(layer_name)\n",
    "    print(net.params[layer_name][0].data.shape)"
   ]
  },
  {
   "cell_type": "code",
   "execution_count": 11,
   "metadata": {
    "collapsed": false,
    "deletable": true,
    "editable": true
   },
   "outputs": [],
   "source": [
    "# Create another net to take only the necessary layers\n",
    "pruned_net = caffe.Net('voc-fcn32s/pruned_model.prototxt', caffe.TEST)\n",
    "# Load in weights for the layers\n",
    "for layer_name in pruned_net.params.keys():\n",
    "    # Find corresponding weights in the original network\n",
    "    if layer_name in net.params.keys():\n",
    "        # Transfer weights\n",
    "        pruned_net.params[layer_name][0].data.flat = net.params[layer_name][0].data.flat\n",
    "        pruned_net.params[layer_name][1].data[...] = net.params[layer_name][1].data"
   ]
  },
  {
   "cell_type": "code",
   "execution_count": 12,
   "metadata": {
    "collapsed": false,
    "deletable": true,
    "editable": true
   },
   "outputs": [
    {
     "data": {
      "image/png": "[encoded data removed]",
      "text/plain": [
       "<matplotlib.figure.Figure at 0x1759f27ae10>"
      ]
     },
     "metadata": {},
     "output_type": "display_data"
    }
   ],
   "source": [
    "# Check output from the network\n",
    "# load image, switch to BGR, subtract mean, and make dims C x H x W for Caffe\n",
    "pruned_net = caffe.Net('voc-fcn32s/pruned_model.prototxt', 'voc-fcn32s/fcn32s-pruned.caffemodel', caffe.TEST)\n",
    "im = Image.open('data/pascal/VOC2011/JPEGImages/2007_000033.jpg')\n",
    "im = im.resize((img_width, img_height), Image.ANTIALIAS)\n",
    "in_ = np.array(im, dtype=np.float32)\n",
    "in_ = in_[:,:,::-1]\n",
    "in_ -= np.array((104.00698793,116.66876762,122.67891434))\n",
    "in_ = in_.transpose((2,0,1))\n",
    "\n",
    "# shape for input (data blob is N x C x H x W), set data\n",
    "pruned_net.blobs['data'].reshape(1, *in_.shape)\n",
    "pruned_net.blobs['data'].data[...] = in_\n",
    "\n",
    "pruned_net.forward()\n",
    "# Show output from the score_fr layer\n",
    "inter = pruned_net.blobs['score_fr'].data[0].argmax(axis=0)\n",
    "plt.imshow(inter)\n",
    "plt.show()"
   ]
  },
  {
   "cell_type": "code",
   "execution_count": 13,
   "metadata": {
    "collapsed": true,
    "deletable": true,
    "editable": true
   },
   "outputs": [],
   "source": [
    "# Save new net weights\n",
    "pruned_net.save('voc-fcn32s/fcn32s-pruned.caffemodel')"
   ]
  },
  {
   "cell_type": "markdown",
   "metadata": {
    "deletable": true,
    "editable": true
   },
   "source": [
    "At this point, externally call the conversion code to give the Keras weights in the filename defined earlier"
   ]
  },
  {
   "cell_type": "code",
   "execution_count": 14,
   "metadata": {
    "collapsed": false,
    "deletable": true,
    "editable": true
   },
   "outputs": [
    {
     "name": "stdout",
     "output_type": "stream",
     "text": [
      "C:\\Users\\Aditya\\Documents\\Columbia Courses\\Spring 2017\\COMS W4995_Deep_Learning_for_CV\\Project\n"
     ]
    }
   ],
   "source": [
    "%cd ../"
   ]
  },
  {
   "cell_type": "code",
   "execution_count": 15,
   "metadata": {
    "collapsed": false,
    "deletable": true,
    "editable": true
   },
   "outputs": [],
   "source": [
    "# Load weights\n",
    "f = h5py.File(weights_path)"
   ]
  },
  {
   "cell_type": "code",
   "execution_count": 16,
   "metadata": {
    "collapsed": false,
    "deletable": true,
    "editable": true
   },
   "outputs": [],
   "source": [
    "### This is to be run for loading Keras HDF5 weights after conversion\n",
    "\n",
    "# Find order using the .json file\n",
    "import json\n",
    "\n",
    "model_file = None\n",
    "with open('seg_model_init_structure.json') as m:\n",
    "    model_file = json.load(m)\n",
    "\n",
    "for i, layer in enumerate(model_file['layers']):\n",
    "    layer_name = layer['custom_name']\n",
    "    weight_name = 'layer_{}'.format(i)\n",
    "    # Find weights in the weights file\n",
    "    weights = f[weight_name]\n",
    "    if len(weights.keys()) > 0:\n",
    "        w = np.transpose(weights['param_0'], (3, 2, 1, 0))\n",
    "        new_weights = [w]\n",
    "        if 'param_1' in weights:\n",
    "            b = weights['param_1']\n",
    "            new_weights.append(b)\n",
    "        # Find the corresponding layer in the Keras model, copy the weights\n",
    "        model_layer = tf_model.get_layer(layer_name)\n",
    "        model_layer.set_weights(new_weights)"
   ]
  },
  {
   "cell_type": "code",
   "execution_count": 17,
   "metadata": {
    "collapsed": false,
    "deletable": true,
    "editable": true,
    "scrolled": false
   },
   "outputs": [
    {
     "name": "stdout",
     "output_type": "stream",
     "text": [
      "_________________________________________________________________\n",
      "Layer (type)                 Output Shape              Param #   \n",
      "=================================================================\n",
      "zero_padding2d_1 (ZeroPaddin (None, 424, 424, 3)       0         \n",
      "_________________________________________________________________\n",
      "conv1_1 (Conv2D)             (None, 422, 422, 64)      1792      \n",
      "_________________________________________________________________\n",
      "zero_padding2d_2 (ZeroPaddin (None, 424, 424, 64)      0         \n",
      "_________________________________________________________________\n",
      "conv1_2 (Conv2D)             (None, 422, 422, 64)      36928     \n",
      "_________________________________________________________________\n",
      "pool1 (MaxPooling2D)         (None, 211, 211, 64)      0         \n",
      "_________________________________________________________________\n",
      "zero_padding2d_3 (ZeroPaddin (None, 213, 213, 64)      0         \n",
      "_________________________________________________________________\n",
      "conv2_1 (Conv2D)             (None, 211, 211, 128)     73856     \n",
      "_________________________________________________________________\n",
      "zero_padding2d_4 (ZeroPaddin (None, 213, 213, 128)     0         \n",
      "_________________________________________________________________\n",
      "conv2_2 (Conv2D)             (None, 211, 211, 128)     147584    \n",
      "_________________________________________________________________\n",
      "pool2 (MaxPooling2D)         (None, 105, 105, 128)     0         \n",
      "_________________________________________________________________\n",
      "zero_padding2d_5 (ZeroPaddin (None, 107, 107, 128)     0         \n",
      "_________________________________________________________________\n",
      "conv3_1 (Conv2D)             (None, 105, 105, 256)     295168    \n",
      "_________________________________________________________________\n",
      "zero_padding2d_6 (ZeroPaddin (None, 107, 107, 256)     0         \n",
      "_________________________________________________________________\n",
      "conv3_2 (Conv2D)             (None, 105, 105, 256)     590080    \n",
      "_________________________________________________________________\n",
      "zero_padding2d_7 (ZeroPaddin (None, 107, 107, 256)     0         \n",
      "_________________________________________________________________\n",
      "conv3_3 (Conv2D)             (None, 105, 105, 256)     590080    \n",
      "_________________________________________________________________\n",
      "pool3 (MaxPooling2D)         (None, 52, 52, 256)       0         \n",
      "_________________________________________________________________\n",
      "zero_padding2d_8 (ZeroPaddin (None, 54, 54, 256)       0         \n",
      "_________________________________________________________________\n",
      "conv4_1 (Conv2D)             (None, 52, 52, 512)       1180160   \n",
      "_________________________________________________________________\n",
      "zero_padding2d_9 (ZeroPaddin (None, 54, 54, 512)       0         \n",
      "_________________________________________________________________\n",
      "conv4_2 (Conv2D)             (None, 52, 52, 512)       2359808   \n",
      "_________________________________________________________________\n",
      "zero_padding2d_10 (ZeroPaddi (None, 54, 54, 512)       0         \n",
      "_________________________________________________________________\n",
      "conv4_3 (Conv2D)             (None, 52, 52, 512)       2359808   \n",
      "_________________________________________________________________\n",
      "pool4 (MaxPooling2D)         (None, 26, 26, 512)       0         \n",
      "_________________________________________________________________\n",
      "zero_padding2d_11 (ZeroPaddi (None, 28, 28, 512)       0         \n",
      "_________________________________________________________________\n",
      "conv5_1 (Conv2D)             (None, 26, 26, 512)       2359808   \n",
      "_________________________________________________________________\n",
      "zero_padding2d_12 (ZeroPaddi (None, 28, 28, 512)       0         \n",
      "_________________________________________________________________\n",
      "conv5_2 (Conv2D)             (None, 26, 26, 512)       2359808   \n",
      "_________________________________________________________________\n",
      "zero_padding2d_13 (ZeroPaddi (None, 28, 28, 512)       0         \n",
      "_________________________________________________________________\n",
      "conv5_3 (Conv2D)             (None, 26, 26, 512)       2359808   \n",
      "_________________________________________________________________\n",
      "pool5 (MaxPooling2D)         (None, 13, 13, 512)       0         \n",
      "_________________________________________________________________\n",
      "fc6 (Conv2D)                 (None, 7, 7, 4096)        102764544 \n",
      "_________________________________________________________________\n",
      "drop6 (Dropout)              (None, 7, 7, 4096)        0         \n",
      "_________________________________________________________________\n",
      "fc7 (Conv2D)                 (None, 7, 7, 4096)        16781312  \n",
      "_________________________________________________________________\n",
      "drop7 (Dropout)              (None, 7, 7, 4096)        0         \n",
      "_________________________________________________________________\n",
      "score_fr (Conv2D)            (None, 7, 7, 21)          86037     \n",
      "=================================================================\n",
      "Total params: 134,346,581.0\n",
      "Trainable params: 134,346,581.0\n",
      "Non-trainable params: 0.0\n",
      "_________________________________________________________________\n",
      "None\n"
     ]
    }
   ],
   "source": [
    "print (tf_model.summary())"
   ]
  },
  {
   "cell_type": "code",
   "execution_count": 18,
   "metadata": {
    "collapsed": false,
    "deletable": true,
    "editable": true
   },
   "outputs": [
    {
     "data": {
      "image/png": "[encoded data removed]",
      "text/plain": [
       "<matplotlib.figure.Figure at 0x1769a2b69b0>"
      ]
     },
     "metadata": {},
     "output_type": "display_data"
    }
   ],
   "source": [
    "# Test out an image on the loaded network\n",
    "from scipy import misc\n",
    "image = Image.open('fcn.berkeleyvision.org/data/pascal/VOC2011/JPEGImages/2007_000033.jpg')\n",
    "image = image.resize((img_width, img_height), Image.ANTIALIAS)\n",
    "plt.imshow(image)\n",
    "plt.show()\n",
    "image = np.array(image, dtype=np.float32)\n",
    "# Preprocess\n",
    "# Switch to BGR\n",
    "image = image[::-1]\n",
    "# Subtract mean\n",
    "image -= np.array((104.00698793,116.66876762,122.67891434))"
   ]
  },
  {
   "cell_type": "code",
   "execution_count": 19,
   "metadata": {
    "collapsed": false,
    "deletable": true,
    "editable": true
   },
   "outputs": [],
   "source": [
    "# Predict segmentation output\n",
    "x = tf_model.predict(np.array([image]), batch_size=1)"
   ]
  },
  {
   "cell_type": "code",
   "execution_count": 20,
   "metadata": {
    "collapsed": false,
    "deletable": true,
    "editable": true
   },
   "outputs": [
    {
     "name": "stdout",
     "output_type": "stream",
     "text": [
      "(7, 7)\n"
     ]
    },
    {
     "data": {
      "text/plain": [
       "<matplotlib.image.AxesImage at 0x1770dd24438>"
      ]
     },
     "execution_count": 20,
     "metadata": {},
     "output_type": "execute_result"
    },
    {
     "data": {
      "image/png": "[encoded data removed]",
      "text/plain": [
       "<matplotlib.figure.Figure at 0x1759f292b70>"
      ]
     },
     "metadata": {},
     "output_type": "display_data"
    }
   ],
   "source": [
    "x_image = np.argmax(x[0], axis=2)\n",
    "print(x_image.shape)\n",
    "plt.imshow(x_image)"
   ]
  },
  {
   "cell_type": "markdown",
   "metadata": {
    "deletable": true,
    "editable": true
   },
   "source": [
    "(Some differences to be expected from the original model, due to rounding errors, and also mismatches in the conversion of layers like Pooling between Caffe and Keras)"
   ]
  },
  {
   "cell_type": "code",
   "execution_count": 21,
   "metadata": {
    "collapsed": true,
    "deletable": true,
    "editable": true
   },
   "outputs": [],
   "source": [
    "# Save final model along with weights to disk\n",
    "tf_model.save('seg_model.h5')"
   ]
  }
 ],
 "metadata": {
  "kernelspec": {
   "display_name": "Python 2",
   "language": "python",
   "name": "python2"
  },
  "language_info": {
   "codemirror_mode": {
    "name": "ipython",
    "version": 2
   },
   "file_extension": ".py",
   "mimetype": "text/x-python",
   "name": "python",
   "nbconvert_exporter": "python",
   "pygments_lexer": "ipython2",
   "version": "2.7.10"
  }
 },
 "nbformat": 4,
 "nbformat_minor": 2
}
